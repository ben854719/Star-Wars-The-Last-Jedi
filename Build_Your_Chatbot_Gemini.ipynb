{
  "nbformat": 4,
  "nbformat_minor": 0,
  "metadata": {
    "colab": {
      "private_outputs": true,
      "provenance": [],
      "authorship_tag": "ABX9TyP9tASc00LHwKJA7LijCncN",
      "include_colab_link": true
    },
    "kernelspec": {
      "name": "python3",
      "display_name": "Python 3"
    },
    "language_info": {
      "name": "python"
    }
  },
  "cells": [
    {
      "cell_type": "markdown",
      "metadata": {
        "id": "view-in-github",
        "colab_type": "text"
      },
      "source": [
        "<a href=\"https://colab.research.google.com/github/ben854719/Star-Wars-The-Last-Jedi/blob/main/Build_Your_Chatbot_Gemini.ipynb\" target=\"_parent\"><img src=\"https://colab.research.google.com/assets/colab-badge.svg\" alt=\"Open In Colab\"/></a>"
      ]
    },
    {
      "cell_type": "code",
      "source": [
        "# Import Langchaine to google colab.\n",
        "!pip install --quiet langchain\n",
        "!pip install --quiet langchain-google-genai\n",
        "!pip install --quiet chromadb\n",
        "!pip install langchain-community"
      ],
      "metadata": {
        "collapsed": true,
        "id": "2ttk8hkZmKql"
      },
      "execution_count": null,
      "outputs": []
    },
    {
      "cell_type": "code",
      "source": [
        "# Import Google Key.\n",
        "import os\n",
        "import getpass\n",
        "os.environ['GOOGLE_API_KEY'] = getpass.getpass('GeminiAPI_key')"
      ],
      "metadata": {
        "collapsed": true,
        "id": "4PK5C0GQnBQV"
      },
      "execution_count": null,
      "outputs": []
    },
    {
      "cell_type": "code",
      "source": [
        "# import LangChain libraries\n",
        "from langchain import PromptTemplate\n",
        "from langchain import hub\n",
        "from langchain.docstore.document import Document\n",
        "from langchain.document_loaders import WebBaseLoader\n",
        "from langchain.schema import StrOutputParser\n",
        "from langchain.schema.prompt_template import format_document\n",
        "from langchain.schema.runnable import RunnablePassthrough\n",
        "from langchain.vectorstores import Chroma\n"
      ],
      "metadata": {
        "collapsed": true,
        "id": "xp880px4pxqp"
      },
      "execution_count": null,
      "outputs": []
    },
    {
      "cell_type": "code",
      "source": [
        "# Import the dataset from the web (Star Wars: The Last Jedi)\n",
        "loader = WebBaseLoader(\"https://en.wikipedia.org/wiki/Star_Wars:_The_Last_Jedi\")\n",
        "docs = loader.load()"
      ],
      "metadata": {
        "id": "61xzkxqwvAVa"
      },
      "execution_count": null,
      "outputs": []
    },
    {
      "cell_type": "code",
      "source": [
        "# Extract the text from the website data content.\n",
        "text_content = docs[0].page_content\n",
        "\n",
        "# To select the required content.\n",
        "text_content_0 = text_content.split(\"==References==\")[0]\n",
        "text_content_1 = text_content_0.split(\"==External Links==\")[0]\n",
        "text_content_2 = text_content_1.split(\"==See also==\")[0]\n",
        "final_text = text_content_2.split(\"==Notes==\")[0]\n",
        "print(final_text)\n",
        "\n",
        "# Convert the text to LangChain's to the document format.\n",
        "docs = [Document(page_content=final_text, metadata={\"source\":\"Star Wars: The Last Jedi\"})]\n",
        "\n",
        "\n",
        "\n"
      ],
      "metadata": {
        "id": "LiVzE31Txyyh"
      },
      "execution_count": null,
      "outputs": []
    },
    {
      "cell_type": "code",
      "source": [
        "# Import Gemini chatbot.\n",
        "from langchain_google_genai import GoogleGenerativeAIEmbeddings\n",
        "\n",
        "gemini_embeddings = GoogleGenerativeAIEmbeddings(model=\"models/text-embedding-004\")"
      ],
      "metadata": {
        "id": "Bnwplit15s0d"
      },
      "execution_count": null,
      "outputs": []
    },
    {
      "cell_type": "code",
      "source": [
        "# Save to disk.\n",
        "VectorStore = Chroma.from_documents(\n",
        "    documents=docs,\n",
        "    embedding=gemini_embeddings,\n",
        "    persist_directory=\"./chroma_db\"\n",
        ")"
      ],
      "metadata": {
        "id": "O8ijiptU9-0m"
      },
      "execution_count": null,
      "outputs": []
    },
    {
      "cell_type": "code",
      "source": [
        "from re import search\n",
        "# Load from disk.\n",
        "VectorStore_disk = Chroma(\n",
        "    persist_directory=\"./chroma_db\",\n",
        "    embedding_function=gemini_embeddings\n",
        ")\n",
        "\n",
        "retriever = VectorStore_disk.as_retriever(search_kwargs={\"k\": 1})\n",
        "print(len(retriever.get_relevant_documents(\"MMLU\")))"
      ],
      "metadata": {
        "id": "lcoojikQ_f99"
      },
      "execution_count": null,
      "outputs": []
    },
    {
      "cell_type": "code",
      "source": [
        "from langchain_google_genai import ChatGoogleGenerativeAI\n",
        "\n",
        "llm = ChatGoogleGenerativeAI(model=\"gemini-pro\", temparature=0.1, top_p=0.8, top_k=40)"
      ],
      "metadata": {
        "id": "UPp9DGx2B7cm"
      },
      "execution_count": null,
      "outputs": []
    },
    {
      "cell_type": "code",
      "source": [
        "from langchain_core.prompts import PromptTemplate\n",
        "\n",
        "# Prompt template to query Gemini.\n",
        "llm_prompt_template = \"\"\" You are an assistant for question-answering tasks.\n",
        "Use the following pieces of retrieved context to answer the question.\n",
        "If you don't know the answer, just say that you don't know, don't try to make up an answer.\n",
        "Use three sentences maximum. Keep the answer as concise as possible.\\n\n",
        "Question: {question} \\nContext: {context} \\nAnswer:\"\"\"\n",
        "\n",
        "# Use keyword arguments to initialize PromptTemplate\n",
        "llm_prompt = PromptTemplate(template=llm_prompt_template, input_variables=[\"question\", \"context\"])\n",
        "\n",
        "print(llm_prompt)"
      ],
      "metadata": {
        "id": "S4RTfv7jIEqL"
      },
      "execution_count": null,
      "outputs": []
    },
    {
      "cell_type": "code",
      "source": [
        "# Combine data from documents to readable string format.\n",
        "def format_docs(docs):\n",
        "  return \"\\n\\n\".join(doc.page_content for doc in docs)\n",
        "\n",
        "rag_chain = (\n",
        "    {\"context\": retriever | format_docs, \"question\": RunnablePassthrough()}\n",
        "    | llm_prompt\n",
        "    | llm\n",
        "    | StrOutputParser()\n",
        ")\n"
      ],
      "metadata": {
        "id": "zjLHYOmYIKvU"
      },
      "execution_count": null,
      "outputs": []
    },
    {
      "cell_type": "code",
      "source": [
        "# Prompt the model. I am ready to ask question to Gemini about Star Wars: The Last Jedi\n",
        "rag_chain.invoke(\"What is the movie about?\")"
      ],
      "metadata": {
        "id": "fX17Lgr2MDaa"
      },
      "execution_count": null,
      "outputs": []
    },
    {
      "cell_type": "code",
      "source": [
        "rag_chain.invoke(\"What is the main character in the movie?\")"
      ],
      "metadata": {
        "id": "OyffZb0gM5mA"
      },
      "execution_count": null,
      "outputs": []
    },
    {
      "cell_type": "code",
      "source": [
        "rag_chain.invoke(\"Where was the movie shot?\")"
      ],
      "metadata": {
        "id": "OaF6QCNvNVbd"
      },
      "execution_count": null,
      "outputs": []
    },
    {
      "cell_type": "code",
      "source": [
        "rag_chain.invoke(\"Who is the producer and the director of the movie?\")"
      ],
      "metadata": {
        "id": "KrMifJW7Nrvt"
      },
      "execution_count": null,
      "outputs": []
    },
    {
      "cell_type": "code",
      "source": [
        "rag_chain.invoke(\"What was the rating of the movie?\")"
      ],
      "metadata": {
        "id": "U_9hIAVqN35d"
      },
      "execution_count": null,
      "outputs": []
    },
    {
      "cell_type": "code",
      "source": [
        "rag_chain.invoke(\"Did the movie have any special effects?\")"
      ],
      "metadata": {
        "id": "cr127yqrONdC"
      },
      "execution_count": null,
      "outputs": []
    },
    {
      "cell_type": "code",
      "source": [
        "rag_chain.invoke(\"What are the names of the characters of the movie?\")"
      ],
      "metadata": {
        "id": "VOP9oPkEO0Ut"
      },
      "execution_count": null,
      "outputs": []
    }
  ]
}